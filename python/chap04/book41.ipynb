{
 "cells": [
  {
   "cell_type": "markdown",
   "id": "f2823282-9bc5-4698-b441-05336e311475",
   "metadata": {},
   "source": [
    "converted using https://www.codeconvert.ai/app"
   ]
  },
  {
   "cell_type": "code",
   "execution_count": 11,
   "id": "6427a47a-c4c6-4705-8c73-6af59b5a5797",
   "metadata": {},
   "outputs": [
    {
     "name": "stdin",
     "output_type": "stream",
     "text": [
      "Enter the file name:  p41_1\n"
     ]
    },
    {
     "ename": "ValueError",
     "evalue": "could not broadcast input array from shape (4,) into shape (1,)",
     "output_type": "error",
     "traceback": [
      "\u001b[0;31m---------------------------------------------------------------------------\u001b[0m",
      "\u001b[0;31mValueError\u001b[0m                                Traceback (most recent call last)",
      "\u001b[0;32m/var/folders/s2/y1g4vpbn6yn8sls9xj0zt19w0000gn/T/ipykernel_62400/467060883.py\u001b[0m in \u001b[0;36m<module>\u001b[0;34m\u001b[0m\n\u001b[1;32m     13\u001b[0m \u001b[0;34m\u001b[0m\u001b[0m\n\u001b[1;32m     14\u001b[0m \u001b[0mprop\u001b[0m \u001b[0;34m=\u001b[0m \u001b[0mnp\u001b[0m\u001b[0;34m.\u001b[0m\u001b[0mzeros\u001b[0m\u001b[0;34m(\u001b[0m\u001b[0;34m(\u001b[0m\u001b[0;36m1\u001b[0m\u001b[0;34m,\u001b[0m \u001b[0mnp_types\u001b[0m\u001b[0;34m)\u001b[0m\u001b[0;34m)\u001b[0m\u001b[0;34m\u001b[0m\u001b[0;34m\u001b[0m\u001b[0m\n\u001b[0;32m---> 15\u001b[0;31m \u001b[0mprop\u001b[0m\u001b[0;34m[\u001b[0m\u001b[0;36m0\u001b[0m\u001b[0;34m]\u001b[0m \u001b[0;34m=\u001b[0m \u001b[0mlist\u001b[0m\u001b[0;34m(\u001b[0m\u001b[0mmap\u001b[0m\u001b[0;34m(\u001b[0m\u001b[0mfloat\u001b[0m\u001b[0;34m,\u001b[0m \u001b[0mdata\u001b[0m\u001b[0;34m[\u001b[0m\u001b[0;36m2\u001b[0m\u001b[0;34m]\u001b[0m\u001b[0;34m.\u001b[0m\u001b[0msplit\u001b[0m\u001b[0;34m(\u001b[0m\u001b[0;34m)\u001b[0m\u001b[0;34m)\u001b[0m\u001b[0;34m)\u001b[0m\u001b[0;34m\u001b[0m\u001b[0;34m\u001b[0m\u001b[0m\n\u001b[0m\u001b[1;32m     16\u001b[0m \u001b[0;34m\u001b[0m\u001b[0m\n\u001b[1;32m     17\u001b[0m \u001b[0metype\u001b[0m \u001b[0;34m=\u001b[0m \u001b[0mnp\u001b[0m\u001b[0;34m.\u001b[0m\u001b[0mones\u001b[0m\u001b[0;34m(\u001b[0m\u001b[0mnels\u001b[0m\u001b[0;34m,\u001b[0m \u001b[0mdtype\u001b[0m\u001b[0;34m=\u001b[0m\u001b[0mint\u001b[0m\u001b[0;34m)\u001b[0m\u001b[0;34m\u001b[0m\u001b[0;34m\u001b[0m\u001b[0m\n",
      "\u001b[0;31mValueError\u001b[0m: could not broadcast input array from shape (4,) into shape (1,)"
     ]
    }
   ],
   "source": [
    "# Program 4.1 One dimensional analysis of axially loaded elastic rods\n",
    "# using 2-node rod elements.\n",
    "\n",
    "import numpy as np\n",
    "\n",
    "# Input and initialization\n",
    "argv = input(\"Enter the file name: \")\n",
    "with open(argv + \".dat\", \"r\") as file:\n",
    "    data = file.readlines()\n",
    "\n",
    "nels, np_types = map(int, data[0].split())\n",
    "nn = nels + 1\n",
    "\n",
    "prop = np.zeros((1, np_types))\n",
    "prop[0] = list(map(float, data[2].split()))\n",
    "\n",
    "etype = np.ones(nels, dtype=int)\n",
    "if np_types > 1:\n",
    "    etype = list(map(int, data[3].split()))\n",
    "\n",
    "ell = np.zeros(nels)\n",
    "ell = list(map(float, data[4].split()))\n",
    "\n",
    "nr = int(data[5].split()[0])\n",
    "k = np.zeros(nr)\n",
    "nf = np.ones((1, nn), dtype=int)\n",
    "for i in range(nr):\n",
    "    k[i], nf[0, i] = map(int, data[6 + i].split())\n",
    "\n",
    "neq = np.max(nf)\n",
    "kdiag = np.zeros(neq, dtype=int)\n",
    "\n",
    "# Loop the elements to find global arrays sizes\n",
    "for iel in range(nels):\n",
    "    num = np.array([iel, iel + 1])\n",
    "    g = num_to_g(num, nf)\n",
    "    g_g[:, iel] = g\n",
    "    fkdiag(kdiag, g)\n",
    "\n",
    "for i in range(1, neq):\n",
    "    kdiag[i] = kdiag[i] + kdiag[i - 1]\n",
    "\n",
    "kv = np.zeros(kdiag[neq])\n",
    "\n",
    "# Global stiffness matrix assembly\n",
    "for iel in range(nels):\n",
    "    km = rod_km(prop[0, etype[iel] - 1], ell[iel])\n",
    "    g = g_g[:, iel]\n",
    "    fsparv(kv, km, g, kdiag)\n",
    "\n",
    "# Read loads and/or displacements\n",
    "loads = np.zeros(neq)\n",
    "loaded_nodes = int(data[6 + nr].split()[0])\n",
    "for i in range(loaded_nodes):\n",
    "    k, loads[nf[0, k]] = map(float, data[7 + nr + i].split())\n",
    "\n",
    "fixed_freedoms = int(data[7 + nr + loaded_nodes].split()[0])\n",
    "if fixed_freedoms != 0:\n",
    "    node = np.zeros(fixed_freedoms, dtype=int)\n",
    "    no = np.zeros(fixed_freedoms, dtype=int)\n",
    "    value = np.zeros(fixed_freedoms)\n",
    "    for i in range(fixed_freedoms):\n",
    "        node[i], value[i] = map(float, data[8 + nr + loaded_nodes + i].split())\n",
    "        no[i] = nf[0, node[i] - 1]\n",
    "    kv[kdiag[no]] = kv[kdiag[no]] + penalty\n",
    "    loads[no] = kv[kdiag[no]] * value\n",
    "\n",
    "# Equation solution\n",
    "sparin(kv, kdiag)\n",
    "spabac(kv, loads, kdiag)\n",
    "loads[0] = 0.0\n",
    "\n",
    "# Retrieve element end actions\n",
    "with open(argv + \".res\", \"w\") as file:\n",
    "    file.write(\"  Node   Disp\\n\")\n",
    "    for k in range(nn):\n",
    "        file.write(f\"{k:5d} {loads[nf[0, k]]:12.4e}\\n\")\n",
    "\n",
    "    file.write(\" Element Actions\\n\")\n",
    "    for iel in range(nels):\n",
    "        km = rod_km(prop[0, etype[iel] - 1], ell[iel])\n",
    "        g = g_g[:, iel]\n",
    "        eld = loads[g]\n",
    "        action = np.matmul(km, eld)\n",
    "        file.write(f\"{iel:5d} {action[0]:12.4e} {action[1]:12.4e}\\n\")\n",
    "#: The translation\n",
    "\n"
   ]
  },
  {
   "cell_type": "code",
   "execution_count": 4,
   "id": "b6964776-27d6-455f-b6ab-21f1c4030412",
   "metadata": {},
   "outputs": [],
   "source": [
    "data;\n"
   ]
  },
  {
   "cell_type": "code",
   "execution_count": 6,
   "id": "fc2bc4f7-916f-441d-b5bf-599cd2322fea",
   "metadata": {},
   "outputs": [
    {
     "data": {
      "text/plain": [
       "(5, array([[0.]]))"
      ]
     },
     "execution_count": 6,
     "metadata": {},
     "output_type": "execute_result"
    }
   ],
   "source": [
    "nn, prop"
   ]
  },
  {
   "cell_type": "code",
   "execution_count": 7,
   "id": "f0de56a1-21cc-4040-9b38-e8d479e8c410",
   "metadata": {},
   "outputs": [
    {
     "data": {
      "text/plain": [
       "array([[0.]])"
      ]
     },
     "execution_count": 7,
     "metadata": {},
     "output_type": "execute_result"
    }
   ],
   "source": [
    "prop"
   ]
  },
  {
   "cell_type": "code",
   "execution_count": 8,
   "id": "9220584e-3060-4259-bfc1-a8e48916cd40",
   "metadata": {},
   "outputs": [
    {
     "data": {
      "text/plain": [
       "1"
      ]
     },
     "execution_count": 8,
     "metadata": {},
     "output_type": "execute_result"
    }
   ],
   "source": [
    "np_types\n"
   ]
  },
  {
   "cell_type": "code",
   "execution_count": 9,
   "id": "5961920e-27ec-4771-8eca-60cc19fdd350",
   "metadata": {},
   "outputs": [
    {
     "data": {
      "text/plain": [
       "['4  1\\n',\n",
       " '100000.0\\n',\n",
       " '0.25  0.25  0.25  0.25\\n',\n",
       " '1  \\n',\n",
       " '5 0\\n',\n",
       " '5\\n',\n",
       " '1 -0.625  2 -1.25  3 -1.25  4 -1.25  5 -0.625\\n',\n",
       " '0\\n',\n",
       " '\\n',\n",
       " '\\n']"
      ]
     },
     "execution_count": 9,
     "metadata": {},
     "output_type": "execute_result"
    }
   ],
   "source": [
    "data"
   ]
  },
  {
   "cell_type": "code",
   "execution_count": null,
   "id": "f18c5353-cadd-4af6-b05b-3054e52f1939",
   "metadata": {},
   "outputs": [],
   "source": []
  }
 ],
 "metadata": {
  "kernelspec": {
   "display_name": "Python 3 (ipykernel)",
   "language": "python",
   "name": "python3"
  },
  "language_info": {
   "codemirror_mode": {
    "name": "ipython",
    "version": 3
   },
   "file_extension": ".py",
   "mimetype": "text/x-python",
   "name": "python",
   "nbconvert_exporter": "python",
   "pygments_lexer": "ipython3",
   "version": "3.9.13"
  }
 },
 "nbformat": 4,
 "nbformat_minor": 5
}
